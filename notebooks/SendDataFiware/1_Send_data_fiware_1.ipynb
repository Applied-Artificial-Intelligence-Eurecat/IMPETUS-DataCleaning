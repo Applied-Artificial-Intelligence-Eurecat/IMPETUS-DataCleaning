{
 "cells": [
  {
   "cell_type": "code",
   "execution_count": null,
   "metadata": {},
   "outputs": [],
   "source": [
    "import json\n",
    "import datetime\n",
    "from matplotlib import pyplot as plt\n",
    "import pandas as pd\n",
    "import requests"
   ]
  },
  {
   "cell_type": "markdown",
   "metadata": {},
   "source": [
    "# Write functions"
   ]
  },
  {
   "cell_type": "code",
   "execution_count": null,
   "metadata": {},
   "outputs": [],
   "source": [
    "def gen_payload(date, origin, avg_speed, max_wind_gust): \n",
    "    date = datetime.datetime.strptime(date, '%Y-%m-%d %H:%M:%S').strftime('%Y-%m-%dT%H:%M:%SZ')\n",
    "    return [{\n",
    "        \"id\": \"urn:ngsi-ld:Impetus:windSensor:Manresa\",\n",
    "        \"type\": \"WindSensor\",\n",
    "        \"observed_at\": {\n",
    "            \"type\": \"Property\",\n",
    "            \"value\": date,\n",
    "            \"observedAt\": date,\n",
    "        },      \n",
    "        \"origin\": {\n",
    "            \"type\": \"Property\",\n",
    "            \"value\": origin,\n",
    "            \"observedAt\": date,\n",
    "        },\n",
    "        \"avg_speed\":{\n",
    "            \"type\": \"Property\",\n",
    "            \"value\": avg_speed*1.0,\n",
    "            \"observedAt\": date,\n",
    "        },\n",
    "        \"max_wind_gust\": {\n",
    "            \"type\": \"Property\",\n",
    "            \"value\": max_wind_gust*1.0,\n",
    "            \"observedAt\": date,\n",
    "        }        \n",
    "        ,\"@context\": [\"https://data-manager.climate-impetus.eu/schemas/WindSensor/schema.jsonld\"]\n",
    "    }]\n",
    "\n",
    "def send_data(data):\n",
    "    url_local = 'http://impetus-orion:1026/ngsi-ld/v1/entityOperations/upsert'\n",
    "    url_remote = 'https://data-manager.climate-impetus.eu/broker/ngsi-ld/v1/entityOperations/upsert'\n",
    "    response = requests.post(url=url_remote, headers={\"content-type\": \"application/ld+json\"},data=json.dumps(data))\n",
    "    print(response.status_code)\n",
    "    return response"
   ]
  },
  {
   "cell_type": "code",
   "execution_count": null,
   "metadata": {},
   "outputs": [],
   "source": []
  },
  {
   "cell_type": "markdown",
   "metadata": {},
   "source": [
    "# Read functions"
   ]
  },
  {
   "cell_type": "code",
   "execution_count": null,
   "metadata": {},
   "outputs": [],
   "source": [
    "def generate_read_payload(start_time, end_time):\n",
    "    url = \"https://data-manager.climate-impetus.eu/access/historical/entities\"\n",
    "    params = {\n",
    "        'start_time': start_time,\n",
    "        'end_time': end_time,\n",
    "        'entity_type': 'windsensor',\n",
    "        'format': 'COLUMN'\n",
    "    }\n",
    "    headers = {'accept': 'application/json'}\n",
    "    response = requests.get(url, params=params, headers=headers)\n",
    "    return response # print(response.json())"
   ]
  },
  {
   "cell_type": "markdown",
   "metadata": {},
   "source": [
    "# Send"
   ]
  },
  {
   "cell_type": "markdown",
   "metadata": {},
   "source": [
    "## Send one"
   ]
  },
  {
   "cell_type": "code",
   "execution_count": null,
   "metadata": {},
   "outputs": [],
   "source": [
    "date = '1970-01-01 00:00:00'\n",
    "origin = \"PROCESSED\" #\"DEVICE\"\n",
    "avg_speed = 99.0\n",
    "max_wind_gust = 99.0\n",
    "data = gen_payload(date, origin, avg_speed, max_wind_gust)\n",
    "send_data(data)"
   ]
  },
  {
   "cell_type": "markdown",
   "metadata": {},
   "source": [
    "## Send two"
   ]
  },
  {
   "cell_type": "code",
   "execution_count": null,
   "metadata": {},
   "outputs": [],
   "source": [
    "origin = \"PROCESSED\" #\"DEVICE\"\n",
    "\n",
    "date_1 = '1970-01-01 00:00:00'\n",
    "avg_speed_1 = 5.0\n",
    "max_wind_gust_1 = 8.0\n",
    "\n",
    "date_2 = '1970-01-02 00:00:00'\n",
    "avg_speed_2 = 10.0\n",
    "max_wind_gust_2 = 20.0\n",
    "\n",
    "data_1 = gen_payload(date_1, origin, avg_speed_1, max_wind_gust_1)\n",
    "data_2 = gen_payload(date_2, origin, avg_speed_2, max_wind_gust_2)\n",
    "payloads = [data_1[0], data_2[0]]\n",
    "payloads\n",
    "# print(payloads[0] == payloads[1])\n",
    "# response = send_data(payloads)\n",
    "response = send_data(data_1)\n",
    "response = send_data(data_2)"
   ]
  },
  {
   "cell_type": "code",
   "execution_count": null,
   "metadata": {},
   "outputs": [],
   "source": [
    "response.text"
   ]
  },
  {
   "cell_type": "markdown",
   "metadata": {},
   "source": [
    "## Send dataframe"
   ]
  },
  {
   "cell_type": "code",
   "execution_count": null,
   "metadata": {},
   "outputs": [],
   "source": [
    "df_payload"
   ]
  },
  {
   "cell_type": "code",
   "execution_count": null,
   "metadata": {},
   "outputs": [],
   "source": [
    "df_payload = pd.DataFrame({\"avg_speed\":df_response.avg_speed, \"max_wind_gust\":df_response.max_wind_gust}, index=df_response.index)\n",
    "date_list = df_payload.index.strftime('%Y-%m-%d %H:%M:%S')\n",
    "max_wind_gust_list = [99]*len(df_payload.max_wind_gust.values)\n",
    "avg_speed_list = df_payload.avg_speed.values\n",
    "payloads_df = [ gen_payload(date_list[i],\"PROCESSED\", avg_speed_list[i] ,max_wind_gust_list[i])[0] for i in range(len(date_list))]\n",
    "# payloads_df\n",
    "# for payload in payloads_df: send_data([payload])\n",
    "# send_data(payloads_df)"
   ]
  },
  {
   "cell_type": "code",
   "execution_count": null,
   "metadata": {},
   "outputs": [],
   "source": [
    "def send_data_with_session(data, session):\n",
    "    url_local = 'http://impetus-orion:1026/ngsi-ld/v1/entityOperations/upsert'\n",
    "    url_remote = 'https://data-manager.climate-impetus.eu/broker/ngsi-ld/v1/entityOperations/upsert'\n",
    "    response = session.post(url=url_remote, headers={\"content-type\": \"application/ld+json\"},data=json.dumps(data))\n",
    "    print(response.status_code)\n",
    "    return response\n",
    "\n",
    "with requests.Session() as session:\n",
    "    for payload in payloads_df:\n",
    "        send_data_with_session([payload], session)"
   ]
  },
  {
   "cell_type": "code",
   "execution_count": null,
   "metadata": {},
   "outputs": [],
   "source": [
    "payloads\n",
    "payloads_df\n",
    "print(payloads[1] == payloads_df[1])"
   ]
  },
  {
   "cell_type": "markdown",
   "metadata": {},
   "source": [
    "#  Read"
   ]
  },
  {
   "cell_type": "code",
   "execution_count": null,
   "metadata": {},
   "outputs": [],
   "source": [
    "response = generate_read_payload( \"2017-01-01T00:00:00\", \"2017-02-01T00:00:00\" )\n",
    "# response.json()\n",
    "df_response = parse_api_response_to_df(response.json())\n",
    "# df_response.plot()"
   ]
  },
  {
   "cell_type": "code",
   "execution_count": null,
   "metadata": {},
   "outputs": [],
   "source": [
    "df_response"
   ]
  },
  {
   "cell_type": "code",
   "execution_count": null,
   "metadata": {},
   "outputs": [],
   "source": [
    "response = generate_read_payload( df_payload.sort_index().index[0],  df_payload.sort_index().index[-1])\n",
    "# response.json()\n",
    "df_response = parse_api_response_to_df(response.json())\n",
    "df_response"
   ]
  },
  {
   "cell_type": "code",
   "execution_count": null,
   "metadata": {},
   "outputs": [],
   "source": [
    "response.json()['urn:ngsi-ld:Impetus:windSensor:Manresa']['origin']"
   ]
  },
  {
   "cell_type": "code",
   "execution_count": null,
   "metadata": {},
   "outputs": [],
   "source": [
    "response = generate_read_payload( '1970-01-01T00:00:00',  '1971-01-02T00:00:00')\n",
    "response.json()\n",
    "# print(json.dumps(response.json(), indent=2))"
   ]
  },
  {
   "cell_type": "code",
   "execution_count": null,
   "metadata": {},
   "outputs": [],
   "source": [
    "def parse_api_response_to_df(payload):\n",
    "    root = payload['urn:ngsi-ld:Impetus:windSensor:Manresa']\n",
    "    column_names = [key for key in root.keys() if key not in [\"date_observed\", \"entity_type\", \"origin\"]]\n",
    "    df = pd.DataFrame(root)\n",
    "    df.loc[0, \"avg_speed\"] = 1\n",
    "    df.date_observed = pd.to_datetime( df.date_observed, format=\"%Y-%m-%dT%H:%M:%S\")\n",
    "    df = df.set_index( \"date_observed\", drop=True )\n",
    "    df = df[~df.index.duplicated( keep=\"last\") ]\n",
    "    return df\n",
    "\n",
    "df_response = parse_api_response_to_df(response.json())"
   ]
  },
  {
   "cell_type": "code",
   "execution_count": null,
   "metadata": {},
   "outputs": [],
   "source": [
    "df_response"
   ]
  },
  {
   "cell_type": "markdown",
   "metadata": {},
   "source": [
    "# Read and plot"
   ]
  },
  {
   "cell_type": "code",
   "execution_count": null,
   "metadata": {},
   "outputs": [],
   "source": [
    "# response = generate_read_payload( '1970-01-01T00:00:00',  '2020-01-01T00:00:00')\n",
    "response = generate_read_payload( '2019-01-01T00:00:00',  '2020-01-01T00:00:00')\n",
    "response.json()\n",
    "print(json.dumps(response.json(), indent=2))\n",
    "r = response.json()"
   ]
  },
  {
   "cell_type": "code",
   "execution_count": null,
   "metadata": {},
   "outputs": [],
   "source": [
    "r"
   ]
  },
  {
   "cell_type": "code",
   "execution_count": null,
   "metadata": {},
   "outputs": [],
   "source": [
    "avg_speed = r['urn:ngsi-ld:Impetus:windSensor:Manresa']['avg_speed']\n",
    "max_wind_gust = r['urn:ngsi-ld:Impetus:windSensor:Manresa']['max_wind_gust']\n",
    "date_observed = r['urn:ngsi-ld:Impetus:windSensor:Manresa']['date_observed']\n",
    "\n",
    "manresa_df = pd.DataFrame({\"avg_speed\":avg_speed, \"max_wind_gust\":max_wind_gust}, index=date_observed)\n",
    "manresa_df.index = pd.to_datetime(manresa_df.index)\n",
    "manresa_df = manresa_df.sort_index()[4:]\n",
    "_ = plt.plot(manresa_df[['avg_speed', 'max_wind_gust']])"
   ]
  },
  {
   "cell_type": "code",
   "execution_count": null,
   "metadata": {},
   "outputs": [],
   "source": []
  },
  {
   "cell_type": "code",
   "execution_count": null,
   "metadata": {},
   "outputs": [],
   "source": [
    "r = response.json()\n",
    "df = pd.DataFrame(r['urn:ngsi-ld:Impetus:windSensor:Manresa'])\n",
    "df.date_observed = pd.to_datetime( df.date_observed )\n",
    "df = df.set_index(\"date_observed\").drop(\"entity_type\", axis=1)\n",
    "df_device = df[ df.origin == \"DEVICE\"].drop(\"origin\", axis=1)\n",
    "df_processed = df[ df.origin == \"PROCESSED\"].drop(\"origin\", axis=1)\n",
    "\n",
    "\n",
    "plt.figure(figsize=(12,6))\n",
    "_ = plt.plot(df_device[['max_wind_gust']], label=\"Original\")\n",
    "_ = plt.plot(df_processed[['max_wind_gust']], label=\"Processed\")\n",
    "_ = plt.legend()"
   ]
  },
  {
   "cell_type": "code",
   "execution_count": null,
   "metadata": {},
   "outputs": [],
   "source": [
    "df_device = df[ df.origin == \"DEVICE\"].drop(\"origin\", axis=1)\n",
    "df_device = df_device[\"2015-03-01 00:00:00\":\"2015-07-15 00:00:00\" ]\n",
    "df_device[:60]"
   ]
  },
  {
   "cell_type": "code",
   "execution_count": null,
   "metadata": {},
   "outputs": [],
   "source": [
    "r = response.json()\n",
    "df = pd.DataFrame(r['urn:ngsi-ld:Impetus:windSensor:Manresa'])\n",
    "df.date_observed = pd.to_datetime( df.date_observed )\n",
    "df = df.set_index(\"date_observed\").drop(\"entity_type\", axis=1)\n",
    "df_device = df[ df.origin == \"DEVICE\"].drop(\"origin\", axis=1)\n",
    "df_processed = df[ df.origin == \"PROCESSED\"].drop(\"origin\", axis=1)\n",
    "\n",
    "\n",
    "plt.figure(figsize=(12,6))\n",
    "_ = plt.plot(df_device[['max_wind_gust']], label=\"Original\")\n",
    "_ = plt.plot(df_processed[['max_wind_gust']], label=\"Processed\")\n",
    "_ = plt.legend()"
   ]
  },
  {
   "cell_type": "markdown",
   "metadata": {},
   "source": []
  }
 ],
 "metadata": {
  "kernelspec": {
   "display_name": "impetus_env",
   "language": "python",
   "name": "python3"
  },
  "language_info": {
   "codemirror_mode": {
    "name": "ipython",
    "version": 3
   },
   "file_extension": ".py",
   "mimetype": "text/x-python",
   "name": "python",
   "nbconvert_exporter": "python",
   "pygments_lexer": "ipython3",
   "version": "3.11.6"
  },
  "orig_nbformat": 4
 },
 "nbformat": 4,
 "nbformat_minor": 2
}
