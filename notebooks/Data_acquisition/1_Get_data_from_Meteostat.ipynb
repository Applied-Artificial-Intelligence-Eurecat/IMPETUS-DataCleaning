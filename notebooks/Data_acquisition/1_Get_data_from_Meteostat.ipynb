{
 "cells": [
  {
   "cell_type": "code",
   "execution_count": null,
   "metadata": {},
   "outputs": [],
   "source": [
    "from datetime import datetime\n",
    "import matplotlib.pyplot as plt\n",
    "from meteostat import Point, Daily, Hourly, Stations"
   ]
  },
  {
   "cell_type": "code",
   "execution_count": null,
   "metadata": {},
   "outputs": [],
   "source": [
    "agulla_coords = (41.749179, 1.842008)\n",
    "agulla_alt = 290\n",
    "start = datetime(2023, 1, 1)\n",
    "end = datetime(2024, 2, 1)"
   ]
  },
  {
   "cell_type": "markdown",
   "metadata": {},
   "source": [
    "#  Point fetch"
   ]
  },
  {
   "cell_type": "code",
   "execution_count": null,
   "metadata": {},
   "outputs": [],
   "source": [
    "# end       if model=True could contain forecast data #Fixable? \n",
    "# method    [\"weighted\", \"nearest\"]\n",
    "def get_hourly_point_data(lat, lon, start, end, alt=None, model=False, method=\"weighted\"):\n",
    "    Point.method = method\n",
    "    point = Point(lat, lon, alt)\n",
    "    data = Hourly(point, start, end, model=model)\n",
    "    data = data.fetch()\n",
    "    return data\n",
    "\n",
    "hourly_data_agulla = get_hourly_point_data(agulla_coords[0], agulla_coords[1], start, end, alt=290, model=False, method=\"weighted\")\n",
    "\n"
   ]
  },
  {
   "cell_type": "code",
   "execution_count": null,
   "metadata": {},
   "outputs": [],
   "source": [
    "len(hourly_data_agulla)"
   ]
  },
  {
   "cell_type": "code",
   "execution_count": null,
   "metadata": {},
   "outputs": [],
   "source": [
    "hourly_data_agulla"
   ]
  },
  {
   "cell_type": "code",
   "execution_count": null,
   "metadata": {},
   "outputs": [],
   "source": [
    "hourly_data_agulla[[\"temp\"]].plot()"
   ]
  },
  {
   "cell_type": "code",
   "execution_count": null,
   "metadata": {},
   "outputs": [],
   "source": [
    "# hourly_data_agulla.to_csv(r\"C:\\Users\\ian.palacin\\Desktop\\projects\\IMPETUS\\data\\agulla\\hourly_weighted_meteostat_agulla.csv\")"
   ]
  },
  {
   "cell_type": "code",
   "execution_count": null,
   "metadata": {},
   "outputs": [],
   "source": [
    "Point.method = \"weighted\"\n",
    "parc_agulla = Point(agulla_coords[0], agulla_coords[1], 290)\n",
    "data = Hourly(parc_agulla, start, end, model=True)\n",
    "data = data.fetch()\n",
    "data.head(1)"
   ]
  },
  {
   "cell_type": "code",
   "execution_count": null,
   "metadata": {},
   "outputs": [],
   "source": [
    "data.plot(y=['temp', 'dwpt'])\n",
    "plt.show()"
   ]
  },
  {
   "cell_type": "code",
   "execution_count": null,
   "metadata": {},
   "outputs": [],
   "source": [
    "hourly_data_agulla.plot(y=['temp', 'dwpt'])\n",
    "plt.show()"
   ]
  },
  {
   "cell_type": "markdown",
   "metadata": {},
   "source": [
    "# Station fetch"
   ]
  },
  {
   "cell_type": "code",
   "execution_count": null,
   "metadata": {},
   "outputs": [],
   "source": [
    "def get_nearby_stations(lat, lon, radius, freq=None, start=None, end=None, fetch_number=10, wmo_must=False, icao_must=False):\n",
    "    stations = Stations()\n",
    "    stations = stations.nearby(lat, lon, radius=radius)\n",
    "    if start != None:\n",
    "        stations = stations.inventory(freq, (start, end))\n",
    "    stations = stations.fetch(fetch_number)\n",
    "    if wmo_must:\n",
    "        stations = stations[ stations.wmo.notna()]\n",
    "    if icao_must:\n",
    "        stations = stations[ stations.icao.notna()]\n",
    "    return stations\n",
    "    \n",
    "# end       if model=True could contain forecast data #Fixable? Fetch last time without model\n",
    "# wmo       world meteorological  organisation\n",
    "# icao      aeropuerto\n",
    "def get_hourly_station_data(station_id, start, end, model=False):\n",
    "    data = Hourly(station_id, start, end, model=model)\n",
    "    data = data.fetch()\n",
    "    return data\n",
    "\n",
    "\n",
    "\n",
    "a = get_nearby_stations(agulla_coords[0], agulla_coords[1], radius=60000)\n",
    "a = get_hourly_station_data(\"LELL0\", start, end, model=False)\n",
    "a"
   ]
  },
  {
   "cell_type": "code",
   "execution_count": null,
   "metadata": {},
   "outputs": [],
   "source": [
    "stations = Stations()\n",
    "stations = stations.nearby(agulla_coords[0], agulla_coords[1], radius=60000)\n",
    "stations = stations.inventory(\"hourly\", (start, end))\n",
    "stations.fetch(10)"
   ]
  },
  {
   "cell_type": "code",
   "execution_count": null,
   "metadata": {},
   "outputs": [],
   "source": [
    "data = Hourly(\"LELL0\", start, end, model=False)\n",
    "data = data.fetch()\n",
    "data.head(1)"
   ]
  },
  {
   "cell_type": "code",
   "execution_count": null,
   "metadata": {},
   "outputs": [],
   "source": [
    "data.plot(y=['temp', 'dwpt'])\n",
    "plt.show()"
   ]
  },
  {
   "cell_type": "code",
   "execution_count": null,
   "metadata": {},
   "outputs": [],
   "source": []
  },
  {
   "cell_type": "code",
   "execution_count": null,
   "metadata": {},
   "outputs": [],
   "source": []
  }
 ],
 "metadata": {
  "kernelspec": {
   "display_name": "impetus_env",
   "language": "python",
   "name": "python3"
  },
  "language_info": {
   "codemirror_mode": {
    "name": "ipython",
    "version": 3
   },
   "file_extension": ".py",
   "mimetype": "text/x-python",
   "name": "python",
   "nbconvert_exporter": "python",
   "pygments_lexer": "ipython3",
   "version": "3.11.9"
  },
  "orig_nbformat": 4
 },
 "nbformat": 4,
 "nbformat_minor": 2
}
