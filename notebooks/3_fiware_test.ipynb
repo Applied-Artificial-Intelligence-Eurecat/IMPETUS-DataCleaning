{
 "cells": [
  {
   "cell_type": "code",
   "execution_count": null,
   "metadata": {},
   "outputs": [],
   "source": [
    "import requests\n",
    "import pandas as pd\n",
    "import json"
   ]
  },
  {
   "cell_type": "markdown",
   "metadata": {},
   "source": [
    "# Exemple 1"
   ]
  },
  {
   "cell_type": "code",
   "execution_count": null,
   "metadata": {},
   "outputs": [],
   "source": [
    "url = \"https://data-manager.climate-impetus.eu/historical/v2/entities/urn:ngsi-ld:Impetus:measurementStation:A?fromDate=2023-06-01T09:30:00&toDate=2023-06-30T10:30:00&limit=5&offset=5\"\n",
    "headers = {\"Fiware-Service\": \"Testing\"}\n",
    "response = requests.get(url=url, headers=headers)"
   ]
  },
  {
   "cell_type": "code",
   "execution_count": null,
   "metadata": {},
   "outputs": [],
   "source": [
    "response"
   ]
  },
  {
   "cell_type": "code",
   "execution_count": null,
   "metadata": {},
   "outputs": [],
   "source": [
    "# print(response.json())\n",
    "index = dict(response.json())['index']\n",
    "temperature = dict(response.json())['attributes'][4]['values']\n",
    "print(temperature)\n",
    "\n",
    "tt = pd.DataFrame( index = index)\n",
    "tt['Temperature'] = temperature\n",
    "tt"
   ]
  },
  {
   "cell_type": "code",
   "execution_count": null,
   "metadata": {},
   "outputs": [],
   "source": [
    "df_data = {}\n",
    "data = response.json()\n",
    "for attr in data[\"attributes\"]:\n",
    "    df_data[attr[\"attrName\"]] = attr[\"values\"]\n",
    "\n",
    "# Crear un DataFrame con el diccionario\n",
    "df = pd.DataFrame(df_data, index=data[\"index\"])\n",
    "df"
   ]
  },
  {
   "cell_type": "code",
   "execution_count": null,
   "metadata": {},
   "outputs": [],
   "source": [
    "df_data = {attr[\"attrName\"]: attr[\"values\"] for attr in data[\"attributes\"]}\n",
    "df = pd.DataFrame(df_data, index=data[\"index\"])\n",
    "df"
   ]
  },
  {
   "cell_type": "code",
   "execution_count": null,
   "metadata": {},
   "outputs": [],
   "source": [
    "print(dict(response.json()))"
   ]
  },
  {
   "cell_type": "code",
   "execution_count": null,
   "metadata": {},
   "outputs": [],
   "source": [
    "print(json.dumps(response.json(), indent = 4))"
   ]
  },
  {
   "cell_type": "markdown",
   "metadata": {},
   "source": [
    "## Exemple Integració"
   ]
  },
  {
   "cell_type": "code",
   "execution_count": null,
   "metadata": {},
   "outputs": [],
   "source": [
    "def load_data_from_api(url):\n",
    "    \"\"\"Carga los datos desde una API\"\"\"\n",
    "    headers = {\"Fiware-Service\": \"Testing\"}\n",
    "    response = requests.get(url=url, headers=headers)\n",
    "    if response.status_code != 200:\n",
    "        print(f\"Error al obtener datos de la API: {response.status_code}\")\n",
    "        return None\n",
    "\n",
    "    df = pd.DataFrame(index=pd.to_datetime(data['index']))\n",
    "    for attr in data['attributes']:\n",
    "        if isinstance(attr['values'][0], dict):\n",
    "            for key in attr['values'][0].keys():\n",
    "                column_name = f\"{attr['attrName']}_{key}\"\n",
    "                df[column_name] = [val[key] for val in attr['values']]\n",
    "        else:\n",
    "            df[attr['attrName']] = attr['values']\n",
    "    return df\n",
    "    # return pd.DataFrame(response.json())\n",
    "url = \"https://data-manager.climate-impetus.eu/historical/v2/entities/urn:ngsi-ld:Impetus:measurementStation:A?fromDate=2023-06-01T09:30:00&toDate=2023-06-30T10:30:00&limit=5&offset=5\"\n",
    "load_data_from_api(url)"
   ]
  },
  {
   "cell_type": "markdown",
   "metadata": {},
   "source": [
    "# Exemple 2"
   ]
  },
  {
   "cell_type": "code",
   "execution_count": null,
   "metadata": {},
   "outputs": [],
   "source": [
    "url = \"https://data-manager.climate-impetus.eu/broker/v2/entities\"\n",
    "headers = {\"Fiware-Service\": \"Testing\"}\n",
    "response = requests.get(url=url, headers=headers)\n",
    "print(response.json())"
   ]
  }
 ],
 "metadata": {
  "kernelspec": {
   "display_name": "Python 3.6.10 ('base')",
   "language": "python",
   "name": "python3"
  },
  "language_info": {
   "codemirror_mode": {
    "name": "ipython",
    "version": 3
   },
   "file_extension": ".py",
   "mimetype": "text/x-python",
   "name": "python",
   "nbconvert_exporter": "python",
   "pygments_lexer": "ipython3",
   "version": "3.6.10"
  },
  "orig_nbformat": 4,
  "vscode": {
   "interpreter": {
    "hash": "c30b4cdb1d07b89ead0f7f786a62c1c7e45ccac6a3b7a2ff1b1099992ea7b224"
   }
  }
 },
 "nbformat": 4,
 "nbformat_minor": 2
}
